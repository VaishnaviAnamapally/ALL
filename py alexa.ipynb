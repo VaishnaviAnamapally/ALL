{
 "cells": [
  {
   "cell_type": "code",
   "execution_count": 10,
   "id": "91059b9d",
   "metadata": {},
   "outputs": [
    {
     "name": "stdout",
     "output_type": "stream",
     "text": [
      "Requirement already satisfied: pywhatkit in c:\\users\\dell\\anaconda3\\lib\\site-packages (5.4)\n",
      "Requirement already satisfied: pyautogui in c:\\users\\dell\\anaconda3\\lib\\site-packages (from pywhatkit) (0.9.53)\n",
      "Requirement already satisfied: Pillow in c:\\users\\dell\\anaconda3\\lib\\site-packages (from pywhatkit) (9.0.1)\n",
      "Requirement already satisfied: Flask in c:\\users\\dell\\anaconda3\\lib\\site-packages (from pywhatkit) (1.1.2)\n",
      "Requirement already satisfied: requests in c:\\users\\dell\\anaconda3\\lib\\site-packages (from pywhatkit) (2.27.1)\n",
      "Requirement already satisfied: wikipedia in c:\\users\\dell\\anaconda3\\lib\\site-packages (from pywhatkit) (1.4.0)\n",
      "Requirement already satisfied: Jinja2>=2.10.1 in c:\\users\\dell\\anaconda3\\lib\\site-packages (from Flask->pywhatkit) (2.11.3)\n",
      "Requirement already satisfied: click>=5.1 in c:\\users\\dell\\anaconda3\\lib\\site-packages (from Flask->pywhatkit) (8.0.4)Note: you may need to restart the kernel to use updated packages.\n",
      "Requirement already satisfied: itsdangerous>=0.24 in c:\\users\\dell\\anaconda3\\lib\\site-packages (from Flask->pywhatkit) (2.0.1)\n",
      "Requirement already satisfied: Werkzeug>=0.15 in c:\\users\\dell\\anaconda3\\lib\\site-packages (from Flask->pywhatkit) (2.0.3)\n",
      "Requirement already satisfied: colorama in c:\\users\\dell\\anaconda3\\lib\\site-packages (from click>=5.1->Flask->pywhatkit) (0.4.4)\n",
      "Requirement already satisfied: MarkupSafe>=0.23 in c:\\users\\dell\\anaconda3\\lib\\site-packages (from Jinja2>=2.10.1->Flask->pywhatkit) (2.0.1)\n",
      "Requirement already satisfied: mouseinfo in c:\\users\\dell\\anaconda3\\lib\\site-packages (from pyautogui->pywhatkit) (0.1.3)\n",
      "Requirement already satisfied: pygetwindow>=0.0.5 in c:\\users\\dell\\anaconda3\\lib\\site-packages (from pyautogui->pywhatkit) (0.0.9)\n",
      "Requirement already satisfied: pyscreeze>=0.1.21 in c:\\users\\dell\\anaconda3\\lib\\site-packages (from pyautogui->pywhatkit) (0.1.28)\n",
      "Requirement already satisfied: PyTweening>=1.0.1 in c:\\users\\dell\\anaconda3\\lib\\site-packages (from pyautogui->pywhatkit) (1.0.4)\n",
      "Requirement already satisfied: pymsgbox in c:\\users\\dell\\anaconda3\\lib\\site-packages (from pyautogui->pywhatkit) (1.0.9)\n",
      "Requirement already satisfied: pyrect in c:\\users\\dell\\anaconda3\\lib\\site-packages (from pygetwindow>=0.0.5->pyautogui->pywhatkit) (0.2.0)\n",
      "Requirement already satisfied: pyperclip in c:\\users\\dell\\anaconda3\\lib\\site-packages (from mouseinfo->pyautogui->pywhatkit) (1.8.2)\n",
      "Requirement already satisfied: charset-normalizer~=2.0.0 in c:\\users\\dell\\anaconda3\\lib\\site-packages (from requests->pywhatkit) (2.0.4)\n",
      "Requirement already satisfied: urllib3<1.27,>=1.21.1 in c:\\users\\dell\\anaconda3\\lib\\site-packages (from requests->pywhatkit) (1.26.9)\n",
      "Requirement already satisfied: certifi>=2017.4.17 in c:\\users\\dell\\anaconda3\\lib\\site-packages (from requests->pywhatkit) (2021.10.8)\n",
      "Requirement already satisfied: idna<4,>=2.5 in c:\\users\\dell\\anaconda3\\lib\\site-packages (from requests->pywhatkit) (3.3)\n",
      "Requirement already satisfied: beautifulsoup4 in c:\\users\\dell\\anaconda3\\lib\\site-packages (from wikipedia->pywhatkit) (4.11.1)\n",
      "Requirement already satisfied: soupsieve>1.2 in c:\\users\\dell\\anaconda3\\lib\\site-packages (from beautifulsoup4->wikipedia->pywhatkit) (2.3.1)\n",
      "\n"
     ]
    }
   ],
   "source": [
    "pip install pywhatkit\n"
   ]
  },
  {
   "cell_type": "code",
   "execution_count": 7,
   "id": "116af76c",
   "metadata": {},
   "outputs": [
    {
     "name": "stdout",
     "output_type": "stream",
     "text": [
      "Requirement already satisfied: wikipedia in c:\\users\\dell\\anaconda3\\lib\\site-packages (1.4.0)Note: you may need to restart the kernel to use updated packages.\n",
      "Requirement already satisfied: requests<3.0.0,>=2.0.0 in c:\\users\\dell\\anaconda3\\lib\\site-packages (from wikipedia) (2.27.1)\n",
      "\n",
      "Requirement already satisfied: beautifulsoup4 in c:\\users\\dell\\anaconda3\\lib\\site-packages (from wikipedia) (4.11.1)\n",
      "Requirement already satisfied: urllib3<1.27,>=1.21.1 in c:\\users\\dell\\anaconda3\\lib\\site-packages (from requests<3.0.0,>=2.0.0->wikipedia) (1.26.9)\n",
      "Requirement already satisfied: certifi>=2017.4.17 in c:\\users\\dell\\anaconda3\\lib\\site-packages (from requests<3.0.0,>=2.0.0->wikipedia) (2021.10.8)\n",
      "Requirement already satisfied: charset-normalizer~=2.0.0 in c:\\users\\dell\\anaconda3\\lib\\site-packages (from requests<3.0.0,>=2.0.0->wikipedia) (2.0.4)\n",
      "Requirement already satisfied: idna<4,>=2.5 in c:\\users\\dell\\anaconda3\\lib\\site-packages (from requests<3.0.0,>=2.0.0->wikipedia) (3.3)\n",
      "Requirement already satisfied: soupsieve>1.2 in c:\\users\\dell\\anaconda3\\lib\\site-packages (from beautifulsoup4->wikipedia) (2.3.1)\n"
     ]
    }
   ],
   "source": [
    "pip install wikipedia \n"
   ]
  },
  {
   "cell_type": "code",
   "execution_count": 8,
   "id": "31eb00fc",
   "metadata": {},
   "outputs": [
    {
     "name": "stdout",
     "output_type": "stream",
     "text": [
      "Collecting pyttsx3\n",
      "  Downloading pyttsx3-2.90-py3-none-any.whl (39 kB)\n",
      "Requirement already satisfied: comtypes in c:\\users\\dell\\anaconda3\\lib\\site-packages (from pyttsx3) (1.1.10)\n",
      "Requirement already satisfied: pywin32 in c:\\users\\dell\\anaconda3\\lib\\site-packages (from pyttsx3) (302)\n",
      "Collecting pypiwin32\n",
      "  Downloading pypiwin32-223-py3-none-any.whl (1.7 kB)\n",
      "Installing collected packages: pypiwin32, pyttsx3\n",
      "Successfully installed pypiwin32-223 pyttsx3-2.90\n",
      "Note: you may need to restart the kernel to use updated packages.\n"
     ]
    }
   ],
   "source": [
    "pip install pyttsx3 \n"
   ]
  },
  {
   "cell_type": "code",
   "execution_count": 9,
   "id": "ced9e0de",
   "metadata": {},
   "outputs": [
    {
     "name": "stdout",
     "output_type": "stream",
     "text": [
      "Collecting speechrecognition\n",
      "  Downloading SpeechRecognition-3.9.0-py2.py3-none-any.whl (32.8 MB)\n",
      "Requirement already satisfied: requests>=2.26.0 in c:\\users\\dell\\anaconda3\\lib\\site-packages (from speechrecognition) (2.27.1)\n",
      "Requirement already satisfied: idna<4,>=2.5 in c:\\users\\dell\\anaconda3\\lib\\site-packages (from requests>=2.26.0->speechrecognition) (3.3)\n",
      "Requirement already satisfied: urllib3<1.27,>=1.21.1 in c:\\users\\dell\\anaconda3\\lib\\site-packages (from requests>=2.26.0->speechrecognition) (1.26.9)\n",
      "Requirement already satisfied: certifi>=2017.4.17 in c:\\users\\dell\\anaconda3\\lib\\site-packages (from requests>=2.26.0->speechrecognition) (2021.10.8)\n",
      "Requirement already satisfied: charset-normalizer~=2.0.0 in c:\\users\\dell\\anaconda3\\lib\\site-packages (from requests>=2.26.0->speechrecognition) (2.0.4)\n",
      "Installing collected packages: speechrecognition\n",
      "Successfully installed speechrecognition-3.9.0\n",
      "Note: you may need to restart the kernel to use updated packages.\n"
     ]
    }
   ],
   "source": [
    "pip install speechrecognition \n"
   ]
  },
  {
   "cell_type": "code",
   "execution_count": 24,
   "id": "1b95616a",
   "metadata": {},
   "outputs": [
    {
     "name": "stdout",
     "output_type": "stream",
     "text": [
      "Collecting pyaudio\n",
      "  Downloading PyAudio-0.2.13-cp39-cp39-win_amd64.whl (164 kB)\n",
      "Installing collected packages: pyaudio\n",
      "Successfully installed pyaudio-0.2.13\n",
      "Note: you may need to restart the kernel to use updated packages.\n"
     ]
    }
   ],
   "source": [
    "pip install pyaudio \n"
   ]
  },
  {
   "cell_type": "code",
   "execution_count": 25,
   "id": "29c9fe80",
   "metadata": {},
   "outputs": [
    {
     "name": "stdout",
     "output_type": "stream",
     "text": [
      "Collecting pyjokes\n",
      "  Downloading pyjokes-0.6.0-py2.py3-none-any.whl (26 kB)\n",
      "Installing collected packages: pyjokes\n",
      "Successfully installed pyjokes-0.6.0\n",
      "Note: you may need to restart the kernel to use updated packages.\n"
     ]
    }
   ],
   "source": [
    "pip install pyjokes"
   ]
  },
  {
   "cell_type": "code",
   "execution_count": 11,
   "id": "54750880",
   "metadata": {},
   "outputs": [
    {
     "data": {
      "text/plain": [
       "'https://www.youtube.com/watch?v=aZjYr87r1b8'"
      ]
     },
     "execution_count": 11,
     "metadata": {},
     "output_type": "execute_result"
    }
   ],
   "source": [
    "\"\"\" PyWhatKit\n",
    "PyWhatKit is a Simple and Powerful WhatsApp Automation Library with many useful Features\n",
    "\n",
    "Features\n",
    "Sending Message to a WhatsApp Group or Contact\n",
    "Sending Image to a WhatsApp Group or Contact\n",
    "Converting an Image to ASCII Art\n",
    "Converting a String to Handwriting\n",
    "Playing YouTube Videos\n",
    "Sending Mails with HTML Code\n",
    "\"\"\"\n",
    "\n",
    "import pywhatkit\n",
    "\n",
    "pywhatkit.playonyt(\" btree Abdul bari\")"
   ]
  },
  {
   "cell_type": "code",
   "execution_count": 12,
   "id": "824e6ab0",
   "metadata": {},
   "outputs": [
    {
     "name": "stdout",
     "output_type": "stream",
     "text": [
      "JavaScript (), often abbreviated as JS, is a programming language that is one of the core technologies of the World Wide Web, alongside HTML and CSS. As of 2022, 98% of websites use JavaScript on the client side for webpage behavior, often incorporating third-party libraries. All major web browsers have a dedicated JavaScript engine to execute the code on users' devices.\n",
      "JavaScript is a high-level, often just-in-time compiled language that conforms to the ECMAScript standard. It has dynamic typing, prototype-based object-orientation, and first-class functions. It is multi-paradigm, supporting event-driven, functional, and imperative programming styles. It has application programming interfaces (APIs) for working with text, dates, regular expressions, standard data structures, and the Document Object Model (DOM).\n",
      "The ECMAScript standard does not include any input/output (I/O), such as networking, storage, or graphics facilities. In practice, the web browser or other runtime system provides JavaScript APIs for I/O.\n",
      "JavaScript engines were originally used only in web browsers, but are now core components of some servers and a variety of applications. The most popular runtime system for this usage is Node.js.\n",
      "Although Java and JavaScript are similar in name, syntax, and respective standard libraries, the two languages are distinct and differ greatly in design.\n"
     ]
    }
   ],
   "source": [
    "''' Wikipedia\n",
    "Used to extract data from Wikipedia. Getting the summary of any title by using summary method.\n",
    "'''\n",
    "\n",
    "import wikipedia\n",
    "result = wikipedia.summary(\"javascript\")\n",
    "print(result)"
   ]
  },
  {
   "cell_type": "code",
   "execution_count": 23,
   "id": "127425f3",
   "metadata": {},
   "outputs": [],
   "source": [
    "''' Text To Speech: pyttsx3\n",
    "pyttsx3 is a text-to-speech conversion library in Python. \n",
    "Unlike alternative libraries, it works offline, and is compatible with both Python 2 and 3.\n",
    "'''\n",
    "import pyttsx3\n",
    "\n",
    "engine = pyttsx3.init()\n",
    "engine.say(\"hellloww\")\n",
    "engine.runAndWait()"
   ]
  },
  {
   "cell_type": "code",
   "execution_count": 30,
   "id": "90f50661",
   "metadata": {},
   "outputs": [
    {
     "name": "stdout",
     "output_type": "stream",
     "text": [
      "Say something\n",
      "result2:\n",
      "{   'alternative': [   {   'confidence': 0.8552388,\n",
      "                           'transcript': 'hello are you okay'},\n",
      "                       {'transcript': 'hello are you ok'}],\n",
      "    'final': True}\n",
      "You said:  hello are you okay\n"
     ]
    }
   ],
   "source": [
    "''' Speech Recognition in Python using Google Speech API\n",
    "This library performs speech recognition. It’ll help the assistant listen to our commands, understand them, and act accordingly.\n",
    "'''\n",
    "\n",
    "import speech_recognition as sr\n",
    "r = sr.Recognizer()\n",
    "\n",
    "with sr.Microphone() as source:\n",
    "    print(\"Say something\")\n",
    "    audio = r.listen(source)\n",
    "    text = r.recognize_google(audio)\n",
    "print(\"You said: \",text)  \n"
   ]
  },
  {
   "cell_type": "code",
   "execution_count": 35,
   "id": "3c1ce55a",
   "metadata": {},
   "outputs": [
    {
     "name": "stdout",
     "output_type": "stream",
     "text": [
      "07:02 PM\n"
     ]
    }
   ],
   "source": [
    "import datetime\n",
    "time = datetime.datetime.now().strftime(\"%I:%m %p\")\n",
    "print(time)"
   ]
  },
  {
   "cell_type": "code",
   "execution_count": 36,
   "id": "a327450b",
   "metadata": {},
   "outputs": [
    {
     "name": "stdout",
     "output_type": "stream",
     "text": [
      "06 Feb 2023\n"
     ]
    }
   ],
   "source": [
    "date = datetime.datetime.now().strftime(\"%d %b %Y\")\n",
    "print(date)"
   ]
  },
  {
   "cell_type": "code",
   "execution_count": 37,
   "id": "bcac5c3b",
   "metadata": {},
   "outputs": [
    {
     "name": "stdout",
     "output_type": "stream",
     "text": [
      "I've been using Vim for a long time now, mainly because I can't figure out how to exit.\n"
     ]
    }
   ],
   "source": [
    "import pyjokes\n",
    "\n",
    "joke = pyjokes.get_joke()\n",
    "print(joke)"
   ]
  },
  {
   "cell_type": "code",
   "execution_count": null,
   "id": "f9ffd45d",
   "metadata": {},
   "outputs": [
    {
     "name": "stdout",
     "output_type": "stream",
     "text": [
      "Say something\n"
     ]
    }
   ],
   "source": [
    "# project\n",
    "import pywhatkit\n",
    "import wikipedia\n",
    "import pyttsx3\n",
    "import speech_recognition as sr\n",
    "import datetime\n",
    "import pyjokes\n",
    "\n",
    "r = sr.Recognizer()\n",
    "with sr.Microphone() as source:\n",
    "    print(\"Say something\")\n",
    "    audio = r.listen(source)\n",
    "    a = r.recognize_google(audio)\n",
    "    a = a.lower()\n",
    "    print(\"Check: \",a)\n",
    "\n",
    "engine = pyttsx3.init()\n",
    "engine.say(\"Showing the result\")\n",
    "engine.runAndWait()\n",
    "    \n",
    "if 'play' in a:\n",
    "    pywhatkit.playonyt(a)\n",
    "    \n",
    "elif 'tell' in a:\n",
    "    #a = a.split()\n",
    "    res = wikipedia.summary(a[2:])\n",
    "    print(res)\n",
    "    \n",
    "elif 'date' in a:\n",
    "    print(\"Todays date: \",datetime.datetime.now().strftime(\"%d %b %Y\"))\n",
    "\n",
    "elif 'time' in a:\n",
    "    print(\"Time: \",datetime.datetime.now().strftime(\"%I:%m %p\"))\n",
    "    \n",
    "elif 'joke' in a:\n",
    "    joke = pyjokes.get_joke()\n",
    "    print(joke)\n",
    "else:\n",
    "    print(\"Try saying again!!\")\n",
    "\n",
    "\n",
    "    \n",
    "    \n",
    "    \n",
    "    \n",
    "    "
   ]
  },
  {
   "cell_type": "code",
   "execution_count": null,
   "id": "4ca21d00",
   "metadata": {},
   "outputs": [],
   "source": []
  },
  {
   "cell_type": "code",
   "execution_count": null,
   "id": "0f57acfe",
   "metadata": {},
   "outputs": [],
   "source": []
  }
 ],
 "metadata": {
  "kernelspec": {
   "display_name": "Python 3 (ipykernel)",
   "language": "python",
   "name": "python3"
  },
  "language_info": {
   "codemirror_mode": {
    "name": "ipython",
    "version": 3
   },
   "file_extension": ".py",
   "mimetype": "text/x-python",
   "name": "python",
   "nbconvert_exporter": "python",
   "pygments_lexer": "ipython3",
   "version": "3.9.12"
  }
 },
 "nbformat": 4,
 "nbformat_minor": 5
}
